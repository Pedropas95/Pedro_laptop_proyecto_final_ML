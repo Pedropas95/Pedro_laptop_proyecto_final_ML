{
 "cells": [
  {
   "cell_type": "markdown",
   "id": "6533fa1d",
   "metadata": {},
   "source": [
    "# 01 · Fuentes de datos\n",
    "Este notebook carga el CSV original desde `data/raw` y mantiene el dataset en una variable llamada `lap`. Además, se guarda una copia como `data/processed/lap.csv`."
   ]
  },
  {
   "cell_type": "code",
   "execution_count": 1,
   "id": "cbd57770",
   "metadata": {},
   "outputs": [],
   "source": [
    "import pandas as pd\n",
    "\n",
    "# Carga del CSV original (ruta relativa desde la carpeta 'notebooks')\n",
    "lap = pd.read_csv('../data/raw/data_original_laptop.csv')\n"
   ]
  },
  {
   "cell_type": "code",
   "execution_count": null,
   "id": "9c69a244",
   "metadata": {},
   "outputs": [],
   "source": []
  }
 ],
 "metadata": {
  "kernelspec": {
   "display_name": "Python 3",
   "language": "python",
   "name": "python3"
  },
  "language_info": {
   "codemirror_mode": {
    "name": "ipython",
    "version": 3
   },
   "file_extension": ".py",
   "mimetype": "text/x-python",
   "name": "python",
   "nbconvert_exporter": "python",
   "pygments_lexer": "ipython3",
   "version": "3.13.3"
  }
 },
 "nbformat": 4,
 "nbformat_minor": 5
}
