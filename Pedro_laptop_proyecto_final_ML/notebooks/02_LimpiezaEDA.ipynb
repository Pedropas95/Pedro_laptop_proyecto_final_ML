{
  "cells": [
    {
      "cell_type": "code",
      "execution_count": 1,
      "metadata": {},
      "outputs": [
        {
          "name": "stdout",
          "output_type": "stream",
          "text": [
            "[encadenado] 02 ha ejecutado 01 y ya tiene `lap` y variables base.\n"
          ]
        }
      ],
      "source": [
        "%run \"01_Fuentes.ipynb\"\n",
        "print('[encadenado] 02 ha ejecutado 01 y ya tiene `lap` y variables base.')\n"
      ]
    },
    {
      "cell_type": "markdown",
      "metadata": {},
      "source": [
        "# 02 · Limpieza, EDA y Feature Engineering \n"
      ]
    },
    {
      "cell_type": "code",
      "execution_count": 2,
      "id": "86c047ac",
      "metadata": {},
      "outputs": [
        {
          "name": "stdout",
          "output_type": "stream",
          "text": [
            "<class 'pandas.core.frame.DataFrame'>\n",
            "RangeIndex: 2843 entries, 0 to 2842\n",
            "Data columns (total 17 columns):\n",
            " #   Column            Non-Null Count  Dtype  \n",
            "---  ------            --------------  -----  \n",
            " 0   Title             2843 non-null   object \n",
            " 1   Brand             2810 non-null   object \n",
            " 2   Screen_Size       2756 non-null   object \n",
            " 3   CPU_Model         2628 non-null   object \n",
            " 4   Ram               2711 non-null   object \n",
            " 5   Operating_System  2723 non-null   object \n",
            " 6   Rating            2283 non-null   float64\n",
            " 7   Series            2501 non-null   object \n",
            " 8   Color             2109 non-null   object \n",
            " 9   Resolution        182 non-null    object \n",
            " 10  Weight            66 non-null     object \n",
            " 11  USB               35 non-null     float64\n",
            " 12  Battery           7 non-null      object \n",
            " 13  Graphics          2063 non-null   object \n",
            " 14  Disk_size         2248 non-null   object \n",
            " 15  Card_desc         2635 non-null   object \n",
            " 16  Price             1863 non-null   object \n",
            "dtypes: float64(2), object(15)\n",
            "memory usage: 377.7+ KB\n"
          ]
        }
      ],
      "source": [
        "lap.info()"
      ]
    },
    {
      "cell_type": "code",
      "execution_count": 3,
      "id": "769317c4",
      "metadata": {},
      "outputs": [],
      "source": [
        "total = len(lap)\n",
        "nulos = lap.isna().sum()\n",
        "porcentaje_nulos = (nulos/total)*100"
      ]
    },
    {
      "cell_type": "code",
      "execution_count": 4,
      "id": "394ca263",
      "metadata": {},
      "outputs": [
        {
          "data": {
            "text/plain": [
              "Title                0.000000\n",
              "Brand                1.160746\n",
              "Screen_Size          3.060148\n",
              "Operating_System     4.220893\n",
              "Ram                  4.642983\n",
              "Card_desc            7.316215\n",
              "CPU_Model            7.562434\n",
              "Series              12.029546\n",
              "Rating              19.697503\n",
              "Disk_size           20.928597\n",
              "Color               25.817798\n",
              "Graphics            27.435807\n",
              "Price               34.470630\n",
              "Resolution          93.598312\n",
              "Weight              97.678509\n",
              "USB                 98.768906\n",
              "Battery             99.753781\n",
              "dtype: float64"
            ]
          },
          "execution_count": 4,
          "metadata": {},
          "output_type": "execute_result"
        }
      ],
      "source": [
        "porcentaje_nulos.sort_values()"
      ]
    },
    {
      "cell_type": "code",
      "execution_count": 5,
      "id": "d1a66c10",
      "metadata": {},
      "outputs": [],
      "source": [
        "## eliminamos las que tienen demasiados Nan (y que además no son súper importantes)\n",
        "\n",
        "lap = lap.drop(['Battery','USB','Weight'],axis=1)"
      ]
    },
    {
      "cell_type": "code",
      "execution_count": 6,
      "id": "a4966990",
      "metadata": {},
      "outputs": [],
      "source": [
        "# usaremos esto en adelante \n",
        "total = len(lap)\n",
        "nulos = lap.isna().sum()\n",
        "porcentaje_nulos = (nulos/total)*100\n"
      ]
    },
    {
      "cell_type": "code",
      "execution_count": 7,
      "id": "538b3211",
      "metadata": {},
      "outputs": [
        {
          "data": {
            "text/plain": [
              "0       Microsoft Surface Laptop Intel Core i5 7th Gen...\n",
              "1       Microsoft Surface Laptop 3 13.5\" Touch-Screen ...\n",
              "2       Microsoft Surface Laptop (Intel Core i7, 16GB ...\n",
              "3       Microsoft Surface Laptop 3, 10th Gen Intel Cor...\n",
              "4       2022 Microsoft Surface Laptop Go 12.4\" Touchsc...\n",
              "                              ...                        \n",
              "2838    Microsoft Surface Laptop Go 12.4\" Touchscreen ...\n",
              "2839    Microsoft Surface Laptop Go 12.4\" Touchscreen ...\n",
              "2840    Microsoft Surface Laptop Go 12.4in Touchscreen...\n",
              "2841    Microsoft Surface Laptop Go 12.4\" Touchscreen ...\n",
              "2842    Microsoft Surface Laptop Go 12.4\" Touchscreen ...\n",
              "Name: Title, Length: 2843, dtype: object"
            ]
          },
          "execution_count": 7,
          "metadata": {},
          "output_type": "execute_result"
        }
      ],
      "source": [
        "## Tenemos en 'Title' la info que podemos meter en otras columnas (y no hay nulos)\n",
        "\n",
        "# la primera palabra es la marca\n",
        "\n",
        "lap['Title']"
      ]
    },
    {
      "cell_type": "code",
      "execution_count": 8,
      "id": "9660ac48",
      "metadata": {},
      "outputs": [],
      "source": [
        "sin_marca = lap[lap['Brand'].isna()].copy()\n",
        "sin_marca['Brand'] = sin_marca['Title'].str.split(' ').str.get(0)"
      ]
    },
    {
      "cell_type": "code",
      "execution_count": 9,
      "id": "0c10c8a2",
      "metadata": {},
      "outputs": [],
      "source": [
        "lap.loc[sin_marca.index, 'Brand'] = sin_marca['Brand']\n",
        "#tenemos Brand limpio y sin nulos"
      ]
    },
    {
      "cell_type": "code",
      "execution_count": 10,
      "id": "818e4c73",
      "metadata": {},
      "outputs": [
        {
          "data": {
            "text/plain": [
              "Title                0.000000\n",
              "Brand                1.160746\n",
              "Screen_Size          3.060148\n",
              "Operating_System     4.220893\n",
              "Ram                  4.642983\n",
              "Card_desc            7.316215\n",
              "CPU_Model            7.562434\n",
              "Series              12.029546\n",
              "Rating              19.697503\n",
              "Disk_size           20.928597\n",
              "Color               25.817798\n",
              "Graphics            27.435807\n",
              "Price               34.470630\n",
              "Resolution          93.598312\n",
              "dtype: float64"
            ]
          },
          "execution_count": 10,
          "metadata": {},
          "output_type": "execute_result"
        }
      ],
      "source": [
        "porcentaje_nulos.sort_values()"
      ]
    },
    {
      "cell_type": "code",
      "execution_count": 11,
      "id": "4eb711ae",
      "metadata": {},
      "outputs": [],
      "source": [
        "## por orden. Vamos con screen size.\n",
        "# vemos en Title, que las pulgadas son siempre:\n",
        "# o uno u dos numeros, punto, otro num y \"\" \n",
        "# o un digito solo y \"\"\n",
        "# o también con inches \n",
        "lap['Screen_Size'] = (\n",
        "    lap['Screen_Size'].astype(str)\n",
        "    .str.replace('Inches','', case=False)\n",
        "    .str.replace('\"','', regex=False)\n",
        "    .str.strip()                               # <-- con paréntesis\n",
        "    .str.replace(',', '.', regex=False)\n",
        ")\n",
        "lap['Screen_Size'] = pd.to_numeric(lap['Screen_Size'], errors='coerce')"
      ]
    },
    {
      "cell_type": "code",
      "execution_count": 12,
      "id": "aa6b19ef",
      "metadata": {},
      "outputs": [
        {
          "name": "stdout",
          "output_type": "stream",
          "text": [
            "float64\n",
            "NaN en Screen_Size: 51\n"
          ]
        }
      ],
      "source": [
        "# usamos regex\n",
        "# queremos los casos como escriben las pulgadas en Title\n",
        "# creamos máscara para aplicar el regex solamente a los nulos\n",
        "\n",
        "\n",
        "numeritos = r'(\\d{2}(?:\\.\\d)?)\\\"'\n",
        "mask = lap['Screen_Size'].isna()\n",
        "\n",
        "lap.loc[mask, 'Screen_Size'] = pd.to_numeric(\n",
        "    lap.loc[mask, 'Title'].str.extract(numeritos, expand=False),\n",
        "    errors='coerce'\n",
        ")\n",
        "\n",
        "print(lap['Screen_Size'].dtype)       \n",
        "print('NaN en Screen_Size:', lap['Screen_Size'].isna().sum())"
      ]
    },
    {
      "cell_type": "code",
      "execution_count": 13,
      "id": "5d32e176",
      "metadata": {},
      "outputs": [
        {
          "data": {
            "text/plain": [
              "np.int64(51)"
            ]
          },
          "execution_count": 13,
          "metadata": {},
          "output_type": "execute_result"
        }
      ],
      "source": [
        "lap['Screen_Size'].isna().sum()"
      ]
    },
    {
      "cell_type": "code",
      "execution_count": 14,
      "id": "7d2494cc",
      "metadata": {},
      "outputs": [
        {
          "name": "stdout",
          "output_type": "stream",
          "text": [
            "NaN restantes: 27\n",
            "['Refurbished Panasonic Toughbook CF-33, Intel Core i5-6300U @2.4GHz, Ram 8GB, 256GB SSD,4G Lte,No Key', '2nd USB/CF-20/8GB/256GB SSD/Windows 10/WIFI/4G LTE/Multi Carrier/Webcam/Emissive Backlit Keyboard/', 'Toughbook U1 Ultra Mobile PC', 'PANASONIC FZ-VZSU88U', 'Acer Predator Triton 500 SE Gaming/Creator Laptop | 12th Gen Intel i9-12900H & Nitro 5 AN515-57-79TD Gaming Laptop | Intel Core i7-11800H | NVIDIA GeForce RTX 3050 Ti Laptop GPU', 'MK8/CF-19/16GB RAM/ 4G LTE/ 500GB SSD/ WINDOWS 10 PRO 64 BIT/2.7 GHZ/TOUCH SCREEN/', 'CF30 C2D/1.6 13.3TCH 2GB-160GB WLS EBK GOBI WXP-WV', 'Panasonic CF-52VAABY1M-RW Win7 Intel Core I5-3360m 2.80ghz 15.4', 'Panasonic Toughbook CF-53JJCZY1M 14 LED Notebook Intel Core i5-3320M 2.60 GHz', 'GIGABYTE Ultra Compact Mini PC/Intel UHD Graphics 600/ M.2 SSD/HDMI (2.0A)/ DP1.2A Component- GB-BLCE-4105']\n"
          ]
        }
      ],
      "source": [
        "# Limpio lo que ya tenga en Screen_Size \n",
        "lap['Screen_Size'] = (\n",
        "    lap['Screen_Size'].astype(str)\n",
        "    .str.replace('Inches','', case=False)\n",
        "    .str.replace('\"','', regex=False)\n",
        "    .str.replace(',', '.', regex=False)\n",
        "    .str.strip()\n",
        ")\n",
        "lap['Screen_Size'] = pd.to_numeric(lap['Screen_Size'], errors='coerce')\n",
        "\n",
        "# Normaliza comillas/guiones en Title\n",
        "lap['Title_norm'] = (\n",
        "    lap['Title'].astype(str)\n",
        "    .str.replace('”','\"', regex=False)\n",
        "    .str.replace('“','\"', regex=False)\n",
        "    .str.replace('″','\"', regex=False)\n",
        "    .str.replace('-','-', regex=False)  # non-breaking hyphen\n",
        "    .str.replace('–','-', regex=False)\n",
        "    .str.replace('—','-', regex=False)\n",
        ")\n",
        "\n",
        "# Extrae SOLO donde falte, admitiendo \" / inch / inches / in y decimales , o .\n",
        "mask = lap['Screen_Size'].isna()\n",
        "pat = r'(?i)\\b(\\d{1,2}(?:[.,]\\d{1,2})?)\\s*(?:[\"]|-?\\s*inch(?:es)?\\b|in\\b)'\n",
        "\n",
        "ext = (lap.loc[mask, 'Title_norm']\n",
        "         .str.extract(pat, expand=False)\n",
        "         .str.replace(',', '.', regex=False))\n",
        "\n",
        "lap.loc[mask, 'Screen_Size'] = pd.to_numeric(ext, errors='coerce')\n",
        "\n",
        "# Diagnóstico \n",
        "print('NaN restantes:', lap['Screen_Size'].isna().sum())\n",
        "print(lap.loc[lap['Screen_Size'].isna(), 'Title'].head(10).to_list())"
      ]
    },
    {
      "cell_type": "code",
      "execution_count": 15,
      "id": "92daf46f",
      "metadata": {},
      "outputs": [],
      "source": [
        "moda_size = lap['Screen_Size'].mode().iloc[0]\n",
        "\n",
        "lap['Screen_Size'] = lap['Screen_Size'].fillna(moda_size)\n",
        "\n"
      ]
    },
    {
      "cell_type": "code",
      "execution_count": 16,
      "id": "f587d3eb",
      "metadata": {},
      "outputs": [],
      "source": [
        "#### podemos usar también regex para RAM y CPU \n",
        "\n",
        "# la RAM va en el formato 16GB RAM o bien 8GB Memory. Hacemos el regex \n",
        "\n",
        "mascara2 = lap['Ram'].isna()\n",
        "\n",
        "patronRAM = r'(?i)\\b(\\d{1,3})\\s*GB\\s*(?:RAM|Memory)\\b'\n",
        "\n",
        "\n",
        "lap.loc[mascara2,'Ram'] = (lap.loc[mascara2,'Title'].str.extract(patronRAM)[0])"
      ]
    },
    {
      "cell_type": "code",
      "execution_count": 17,
      "id": "7e47b85f",
      "metadata": {},
      "outputs": [
        {
          "data": {
            "text/plain": [
              "np.int64(91)"
            ]
          },
          "execution_count": 17,
          "metadata": {},
          "output_type": "execute_result"
        }
      ],
      "source": [
        "lap['Ram'].isna().sum()\n",
        "# como se puede apreciar, sigue habiendo nulos. \n",
        "# por lo que veo en el csv, hay casos en los que no se especifica la RAM. Tendremos que eliminar estas filas"
      ]
    },
    {
      "cell_type": "code",
      "execution_count": 18,
      "id": "bad034f5",
      "metadata": {},
      "outputs": [],
      "source": [
        "# pasamos a numeros enteros \n",
        "\n",
        "lap['Ram'] = lap['Ram'].astype(str).str.replace(r'[^0-9]', '', regex=True)\n",
        "lap['Ram'] = pd.to_numeric(lap['Ram'], errors='coerce')\n",
        "lap = lap.dropna(subset=['Ram']).copy()\n",
        "lap['Ram'] = lap['Ram'].astype(int)"
      ]
    },
    {
      "cell_type": "code",
      "execution_count": 19,
      "id": "2e6860da",
      "metadata": {},
      "outputs": [],
      "source": [
        "## ahora nos toca ir a por la columna CPU (tenemos un 7% de nulos)\n",
        "\n",
        "# la CPU está en Title también\n",
        "# el formato es la CPU entera. \n",
        "# buscaremos en Title los 5 CPUs más repetidos en la columna CPU.\n"
      ]
    },
    {
      "cell_type": "code",
      "execution_count": 20,
      "id": "c259dfdf",
      "metadata": {},
      "outputs": [
        {
          "data": {
            "text/plain": [
              "CPU_Model\n",
              "Core i7                 404\n",
              "Core i5                 294\n",
              "Core i7 Family          163\n",
              "NaN                     146\n",
              "Intel Core i5           114\n",
              "Celeron                 111\n",
              "Intel Core i7           104\n",
              "Celeron N4020           101\n",
              "Core i5 Family           68\n",
              "Unknown                  68\n",
              "Core i3                  62\n",
              "Core i9                  61\n",
              "Celeron N                47\n",
              "Ryzen 5                  44\n",
              "Intel Core i9            39\n",
              "Ryzen 7                  36\n",
              "Core i5-1035G1           35\n",
              "Celeron N4000            34\n",
              "AMD Ryzen 7              33\n",
              "Intel Core i5-1135G7     33\n",
              "Name: count, dtype: int64"
            ]
          },
          "execution_count": 20,
          "metadata": {},
          "output_type": "execute_result"
        }
      ],
      "source": [
        "lap['CPU_Model'].str.strip().value_counts(dropna=False).head(20)\n",
        "\n",
        "# tenemos una columna de CPU con muuuuchos tipos diferentes de strings.\n",
        "# Luego vemos qué hacer con toda esta info"
      ]
    },
    {
      "cell_type": "code",
      "execution_count": 21,
      "id": "8488527c",
      "metadata": {},
      "outputs": [],
      "source": [
        "# por ahora, vamos a rellenar los nulos con la info que \n",
        "# podamos encontrar en Title\n",
        "\n",
        "mascara3 = lap['CPU_Model'].isna()\n",
        "\n",
        "cpu_pattern = r'(?i)\\b(' \\\n",
        "              r'Intel\\s*Core\\s*i[3-9]|' \\\n",
        "              r'Intel\\s*i[3-9]|' \\\n",
        "              r'i[3-9]-\\d{4,5}[A-Z]?|' \\\n",
        "              r'Ryzen\\s*[3579](?:\\s*\\d{4}[A-Z]?)?|' \\\n",
        "              r'Ryzen\\s*[3579]|' \\\n",
        "              r'Apple\\s*M\\d|' \\\n",
        "              r'Exynos\\s*\\d+|' \\\n",
        "              r'Celeron|Pentium|Athlon|Snapdragon\\s*\\d+' \\\n",
        "              r')\\b'\n",
        "\n",
        "extracted = lap.loc[mascara3, 'Title'].str.extract(cpu_pattern, expand=False)\n",
        "lap.loc[mascara3, 'CPU_Model'] = (\n",
        "    extracted\n",
        "      .str.replace(r'\\s+', ' ', regex=True)  \n",
        "      .str.strip()\n",
        ")"
      ]
    },
    {
      "cell_type": "code",
      "execution_count": 22,
      "id": "9b3a44b8",
      "metadata": {},
      "outputs": [
        {
          "data": {
            "text/plain": [
              "193"
            ]
          },
          "execution_count": 22,
          "metadata": {},
          "output_type": "execute_result"
        }
      ],
      "source": [
        "lap['CPU_Model'].nunique()"
      ]
    },
    {
      "cell_type": "code",
      "execution_count": 23,
      "id": "32d78e6f",
      "metadata": {},
      "outputs": [
        {
          "data": {
            "text/plain": [
              "0       1.2GHz Cortex A8 Processor\n",
              "1                          Core i5\n",
              "2                          Core i7\n",
              "3                   Core i5-1035G7\n",
              "4                          Core i5\n",
              "                   ...            \n",
              "2838                Core i5-1035G1\n",
              "2839                Core i5-1035G1\n",
              "2840                Core i5-1035G1\n",
              "2841                Core i5-1035G1\n",
              "2842                Core i5-1035G1\n",
              "Name: CPU_Model, Length: 2752, dtype: object"
            ]
          },
          "execution_count": 23,
          "metadata": {},
          "output_type": "execute_result"
        }
      ],
      "source": [
        "pd.reset_option('display.max_rows') \n",
        "\n",
        "lap['CPU_Model']"
      ]
    },
    {
      "cell_type": "code",
      "execution_count": 24,
      "id": "bb672d4d",
      "metadata": {},
      "outputs": [],
      "source": [
        "# ok. tenemos 193 CPUs distintas. Buscando las especificaciones,\n",
        "# vamos a crear nuevos grupos "
      ]
    },
    {
      "cell_type": "code",
      "execution_count": 25,
      "id": "8ddfbd67",
      "metadata": {},
      "outputs": [],
      "source": [
        "import numpy as np, re\n",
        "import pandas as pd\n",
        "\n",
        "# Texto normalizado\n",
        "cpu = (lap['CPU_Model'].fillna('')\n",
        "       .astype(str).str.lower().str.replace(r'\\s+', ' ', regex=True).str.strip())\n",
        "\n",
        "# 1) Vendor\n",
        "lap['CPU_Vendor'] = np.select(\n",
        "    [\n",
        "        cpu.str.contains(r'\\bintel\\b|core i|celeron|pentium|xeon|atom', na=False),\n",
        "        cpu.str.contains(r'\\bamd\\b|ryzen|athlon|a series|a[46]\\b|r series', na=False),\n",
        "        cpu.str.contains(r'\\bapple\\b|^m\\d\\b|\\bm1\\b|\\bm2\\b|\\bm3\\b', na=False),\n",
        "        cpu.str.contains(r'snapdragon|qualcomm|exynos|mediatek|kompanio|cortex|arm\\b', na=False),\n",
        "    ],\n",
        "    ['Intel','AMD','Apple','ARM'],\n",
        "    default='Unknown'\n",
        ")\n",
        "\n",
        "# 2) Family (compacta)\n",
        "def cpu_family(s: str) -> str:\n",
        "    s = str(s)\n",
        "    if re.search(r'\\b(i3)\\b', s):  return 'i3'\n",
        "    if re.search(r'\\b(i5)\\b', s):  return 'i5'\n",
        "    if re.search(r'\\b(i7)\\b', s):  return 'i7'\n",
        "    if re.search(r'\\b(i9)\\b', s):  return 'i9'\n",
        "    if re.search(r'ryzen\\s*9', s):  return 'Ryzen9'\n",
        "    if re.search(r'ryzen\\s*7', s):  return 'Ryzen7'\n",
        "    if re.search(r'ryzen\\s*5', s):  return 'Ryzen5'\n",
        "    if re.search(r'ryzen\\s*3', s):  return 'Ryzen3'\n",
        "    if re.search(r'\\bceleron\\b', s): return 'Celeron'\n",
        "    if re.search(r'\\bpentium\\b', s): return 'Pentium'\n",
        "    if re.search(r'\\bathlon\\b', s):  return 'Athlon'\n",
        "    if re.search(r'\\bxeon\\b', s):    return 'Xeon'\n",
        "    if re.search(r'\\batom\\b', s):    return 'Atom'\n",
        "    if re.search(r'\\bcore 2 duo\\b', s): return 'Core2'\n",
        "    if re.search(r'\\bcore m\\b|\\bm-\\d', s): return 'CoreM'\n",
        "    if re.search(r'\\bapple\\b|\\bm[123]\\b', s): return 'AppleM'\n",
        "    if re.search(r'snapdragon', s):  return 'Snapdragon'\n",
        "    if re.search(r'exynos', s):      return 'Exynos'\n",
        "    if re.search(r'mediatek|kompanio', s): return 'MediaTek'\n",
        "    if re.search(r'\\ba series\\b|\\ba[46]\\b|amd a ', s): return 'A-series'\n",
        "    return 'Other'\n",
        "\n",
        "lap['CPU_Family'] = cpu.apply(cpu_family)\n",
        "\n",
        "# 3) Generación / serie aproximada\n",
        "def intel_gen(s: str):\n",
        "    m = re.search(r'i[3579][ -]?(\\d{4,5})', s)\n",
        "    if not m: return np.nan\n",
        "    num = m.group(1)\n",
        "    return int(num[:1]) if len(num)==4 else int(num[:2])  # 8750->8, 11800->11\n",
        "\n",
        "def ryzen_gen(s: str):\n",
        "    m = re.search(r'ryzen\\s*[3579]\\s*(\\d{4})', s)\n",
        "    if not m: return np.nan\n",
        "    return int(m.group(1)[0])  # 5800 -> 5\n",
        "\n",
        "def apple_m_gen(s: str):\n",
        "    m = re.search(r'\\bm(\\d)\\b', s)\n",
        "    return int(m.group(1)) if m else np.nan\n",
        "\n",
        "lap['CPU_Gen'] = pd.Series(np.nan, index=lap.index, dtype='float')\n",
        "lap.loc[lap['CPU_Vendor'].eq('Intel'), 'CPU_Gen'] = cpu[lap['CPU_Vendor'].eq('Intel')].apply(intel_gen)\n",
        "lap.loc[lap['CPU_Vendor'].eq('AMD'),   'CPU_Gen'] = cpu[lap['CPU_Vendor'].eq('AMD')].apply(ryzen_gen)\n",
        "lap.loc[lap['CPU_Vendor'].eq('Apple'), 'CPU_Gen'] = cpu[lap['CPU_Vendor'].eq('Apple')].apply(apple_m_gen)\n",
        "lap['CPU_Gen'] = lap['CPU_Gen'].astype('Int64')\n",
        "\n",
        "# 4) Clase móvil/desktop por sufijo\n",
        "def intel_class(s: str):\n",
        "    if re.search(r'\\b(hx|hk|hq|h)\\b', s): return 'Mobile-H'\n",
        "    if re.search(r'\\b(u|y)\\b', s) or re.search(r'g\\d', s): return 'Mobile-U/G'\n",
        "    return 'Desktop/Unknown'\n",
        "\n",
        "lap['CPU_Class'] = 'Other'\n",
        "mask_i = lap['CPU_Vendor'].eq('Intel')\n",
        "lap.loc[mask_i, 'CPU_Class'] = cpu[mask_i].apply(intel_class)\n",
        "# AMD móvil con H/U\n",
        "mask_a = lap['CPU_Vendor'].eq('AMD')\n",
        "lap.loc[mask_a & cpu.str.contains(r'\\bh\\b'), 'CPU_Class'] = 'Mobile-H'\n",
        "lap.loc[mask_a & cpu.str.contains(r'\\bu\\b'), 'CPU_Class'] = 'Mobile-U/G'\n",
        "\n",
        "# 5) Arquitectura\n",
        "lap['CPU_Arch'] = np.where(lap['CPU_Vendor'].isin(['Apple','ARM']), 'ARM', 'x86')\n",
        "\n",
        "# Rellenar Family desde Title si quedó 'Other' o NaN\n",
        "mask_fill = lap['CPU_Family'].eq('Other') | lap['CPU_Family'].isna()\n",
        "t = (lap.loc[mask_fill, 'Title'].fillna('').astype(str)\n",
        "        .str.lower().str.replace(r'\\s+', ' ', regex=True))\n",
        "lap.loc[mask_fill & t.str.contains(r'\\bi3\\b'), 'CPU_Family'] = 'i3'\n",
        "lap.loc[mask_fill & t.str.contains(r'\\bi5\\b'), 'CPU_Family'] = 'i5'\n",
        "lap.loc[mask_fill & t.str.contains(r'\\bi7\\b'), 'CPU_Family'] = 'i7'\n",
        "lap.loc[mask_fill & t.str.contains(r'\\bi9\\b'), 'CPU_Family'] = 'i9'\n",
        "lap.loc[mask_fill & t.str.contains(r'ryzen\\s*9'), 'CPU_Family'] = 'Ryzen9'\n",
        "lap.loc[mask_fill & t.str.contains(r'ryzen\\s*7'), 'CPU_Family'] = 'Ryzen7'\n",
        "lap.loc[mask_fill & t.str.contains(r'ryzen\\s*5'), 'CPU_Family'] = 'Ryzen5'\n",
        "lap.loc[mask_fill & t.str.contains(r'ryzen\\s*3'), 'CPU_Family'] = 'Ryzen3'\n",
        "lap['CPU_Family'] = lap['CPU_Family'].fillna('Other')\n"
      ]
    },
    {
      "cell_type": "code",
      "execution_count": 26,
      "id": "75c80b1d",
      "metadata": {},
      "outputs": [
        {
          "data": {
            "text/html": [
              "<div>\n",
              "<style scoped>\n",
              "    .dataframe tbody tr th:only-of-type {\n",
              "        vertical-align: middle;\n",
              "    }\n",
              "\n",
              "    .dataframe tbody tr th {\n",
              "        vertical-align: top;\n",
              "    }\n",
              "\n",
              "    .dataframe thead th {\n",
              "        text-align: right;\n",
              "    }\n",
              "</style>\n",
              "<table border=\"1\" class=\"dataframe\">\n",
              "  <thead>\n",
              "    <tr style=\"text-align: right;\">\n",
              "      <th></th>\n",
              "      <th>Title</th>\n",
              "      <th>Brand</th>\n",
              "      <th>Screen_Size</th>\n",
              "      <th>CPU_Model</th>\n",
              "      <th>Ram</th>\n",
              "      <th>Operating_System</th>\n",
              "      <th>Rating</th>\n",
              "      <th>Series</th>\n",
              "      <th>Color</th>\n",
              "      <th>Resolution</th>\n",
              "      <th>Graphics</th>\n",
              "      <th>Disk_size</th>\n",
              "      <th>Card_desc</th>\n",
              "      <th>Price</th>\n",
              "      <th>Title_norm</th>\n",
              "      <th>CPU_Vendor</th>\n",
              "      <th>CPU_Family</th>\n",
              "      <th>CPU_Gen</th>\n",
              "      <th>CPU_Class</th>\n",
              "      <th>CPU_Arch</th>\n",
              "    </tr>\n",
              "  </thead>\n",
              "  <tbody>\n",
              "    <tr>\n",
              "      <th>0</th>\n",
              "      <td>Microsoft Surface Laptop Intel Core i5 7th Gen...</td>\n",
              "      <td>Microsoft</td>\n",
              "      <td>13.5</td>\n",
              "      <td>1.2GHz Cortex A8 Processor</td>\n",
              "      <td>8</td>\n",
              "      <td>Windows 10</td>\n",
              "      <td>4.4</td>\n",
              "      <td>Intel</td>\n",
              "      <td>Platinum</td>\n",
              "      <td>NaN</td>\n",
              "      <td>Intel HD Graphics 620</td>\n",
              "      <td>256 GB</td>\n",
              "      <td>Integrated</td>\n",
              "      <td>NaN</td>\n",
              "      <td>Microsoft Surface Laptop Intel Core i5 7th Gen...</td>\n",
              "      <td>ARM</td>\n",
              "      <td>i5</td>\n",
              "      <td>&lt;NA&gt;</td>\n",
              "      <td>Other</td>\n",
              "      <td>ARM</td>\n",
              "    </tr>\n",
              "    <tr>\n",
              "      <th>1</th>\n",
              "      <td>Microsoft Surface Laptop 3 13.5\" Touch-Screen ...</td>\n",
              "      <td>Microsoft</td>\n",
              "      <td>13.5</td>\n",
              "      <td>Core i5</td>\n",
              "      <td>8</td>\n",
              "      <td>Windows 10</td>\n",
              "      <td>4.4</td>\n",
              "      <td>Microsoft Surface</td>\n",
              "      <td>Matte Black</td>\n",
              "      <td>NaN</td>\n",
              "      <td>NaN</td>\n",
              "      <td>NaN</td>\n",
              "      <td>NaN</td>\n",
              "      <td>NaN</td>\n",
              "      <td>Microsoft Surface Laptop 3 13.5\" Touch-Screen ...</td>\n",
              "      <td>Intel</td>\n",
              "      <td>i5</td>\n",
              "      <td>&lt;NA&gt;</td>\n",
              "      <td>Desktop/Unknown</td>\n",
              "      <td>x86</td>\n",
              "    </tr>\n",
              "    <tr>\n",
              "      <th>2</th>\n",
              "      <td>Microsoft Surface Laptop (Intel Core i7, 16GB ...</td>\n",
              "      <td>Microsoft</td>\n",
              "      <td>13.5</td>\n",
              "      <td>Core i7</td>\n",
              "      <td>16</td>\n",
              "      <td>Windows 10 S</td>\n",
              "      <td>3.9</td>\n",
              "      <td>Surface Laptop</td>\n",
              "      <td>Platinum</td>\n",
              "      <td>NaN</td>\n",
              "      <td>Intel Iris Plus Graphics 640</td>\n",
              "      <td>512 GB</td>\n",
              "      <td>Integrated</td>\n",
              "      <td>NaN</td>\n",
              "      <td>Microsoft Surface Laptop (Intel Core i7, 16GB ...</td>\n",
              "      <td>Intel</td>\n",
              "      <td>i7</td>\n",
              "      <td>&lt;NA&gt;</td>\n",
              "      <td>Desktop/Unknown</td>\n",
              "      <td>x86</td>\n",
              "    </tr>\n",
              "  </tbody>\n",
              "</table>\n",
              "</div>"
            ],
            "text/plain": [
              "                                               Title      Brand  Screen_Size  \\\n",
              "0  Microsoft Surface Laptop Intel Core i5 7th Gen...  Microsoft         13.5   \n",
              "1  Microsoft Surface Laptop 3 13.5\" Touch-Screen ...  Microsoft         13.5   \n",
              "2  Microsoft Surface Laptop (Intel Core i7, 16GB ...  Microsoft         13.5   \n",
              "\n",
              "                    CPU_Model  Ram Operating_System  Rating  \\\n",
              "0  1.2GHz Cortex A8 Processor    8       Windows 10     4.4   \n",
              "1                     Core i5    8       Windows 10     4.4   \n",
              "2                     Core i7   16     Windows 10 S     3.9   \n",
              "\n",
              "              Series        Color Resolution                      Graphics  \\\n",
              "0              Intel     Platinum        NaN         Intel HD Graphics 620   \n",
              "1  Microsoft Surface  Matte Black        NaN                           NaN   \n",
              "2     Surface Laptop     Platinum        NaN  Intel Iris Plus Graphics 640   \n",
              "\n",
              "  Disk_size   Card_desc Price  \\\n",
              "0    256 GB  Integrated   NaN   \n",
              "1       NaN         NaN   NaN   \n",
              "2    512 GB  Integrated   NaN   \n",
              "\n",
              "                                          Title_norm CPU_Vendor CPU_Family  \\\n",
              "0  Microsoft Surface Laptop Intel Core i5 7th Gen...        ARM         i5   \n",
              "1  Microsoft Surface Laptop 3 13.5\" Touch-Screen ...      Intel         i5   \n",
              "2  Microsoft Surface Laptop (Intel Core i7, 16GB ...      Intel         i7   \n",
              "\n",
              "   CPU_Gen        CPU_Class CPU_Arch  \n",
              "0     <NA>            Other      ARM  \n",
              "1     <NA>  Desktop/Unknown      x86  \n",
              "2     <NA>  Desktop/Unknown      x86  "
            ]
          },
          "execution_count": 26,
          "metadata": {},
          "output_type": "execute_result"
        }
      ],
      "source": [
        "lap.head(3\n",
        "         )"
      ]
    },
    {
      "cell_type": "code",
      "execution_count": 27,
      "id": "d479a05f",
      "metadata": {},
      "outputs": [
        {
          "name": "stdout",
          "output_type": "stream",
          "text": [
            "Filas totales: 2752\n",
            "            n_nulls  pct_nulls\n",
            "CPU_Gen        2325      84.48\n",
            "CPU_Vendor        0       0.00\n",
            "CPU_Family        0       0.00\n",
            "CPU_Class         0       0.00\n",
            "CPU_Arch          0       0.00\n"
          ]
        }
      ],
      "source": [
        "cols = ['CPU_Vendor','CPU_Family','CPU_Gen','CPU_Class','CPU_Arch']\n",
        "\n",
        "n_total = len(lap)\n",
        "n_nulls = lap[cols].isna().sum()\n",
        "pct_nulls = (lap[cols].isna().mean() * 100).round(2)\n",
        "\n",
        "resumen_na = (\n",
        "    pd.DataFrame({'n_nulls': n_nulls, 'pct_nulls': pct_nulls})\n",
        "      .sort_values('n_nulls', ascending=False)\n",
        ")\n",
        "\n",
        "print(f'Filas totales: {n_total}')\n",
        "print(resumen_na)\n"
      ]
    },
    {
      "cell_type": "code",
      "execution_count": 28,
      "id": "0c6f9cc7",
      "metadata": {},
      "outputs": [],
      "source": [
        "# Perfecto. solo hay nulos en CPU_Gen, asíque la eliminamos \n",
        "\n",
        "lap = lap.drop(['CPU_Gen'],axis=1)"
      ]
    },
    {
      "cell_type": "code",
      "execution_count": 29,
      "id": "67faf556",
      "metadata": {},
      "outputs": [],
      "source": [
        "# y eliminamos CPU MOdel porque ya hemos aprovechado su info\n",
        "\n",
        "lap = lap.drop(['CPU_Model'],axis=1)"
      ]
    },
    {
      "cell_type": "code",
      "execution_count": 30,
      "id": "f883b5fe",
      "metadata": {},
      "outputs": [],
      "source": [
        "col_eliminar = ['Card_desc', 'Resolution','Title_norm','Series']\n",
        "lap = lap.drop(columns=col_eliminar)"
      ]
    },
    {
      "cell_type": "code",
      "execution_count": 31,
      "id": "fd22cff2",
      "metadata": {},
      "outputs": [],
      "source": [
        "lap['Price'] = (\n",
        "    lap['Price'].astype(str)\n",
        "                 .str.replace(r'[$,]', '', regex=True)\n",
        "                 .astype(float)\n",
        ")"
      ]
    },
    {
      "cell_type": "code",
      "execution_count": 32,
      "id": "e3dcf213",
      "metadata": {},
      "outputs": [
        {
          "data": {
            "text/plain": [
              "Title                object\n",
              "Brand                object\n",
              "Screen_Size         float64\n",
              "Ram                   int64\n",
              "Operating_System     object\n",
              "Rating              float64\n",
              "Color                object\n",
              "Graphics             object\n",
              "Disk_size            object\n",
              "Price               float64\n",
              "CPU_Vendor           object\n",
              "CPU_Family           object\n",
              "CPU_Class            object\n",
              "CPU_Arch             object\n",
              "dtype: object"
            ]
          },
          "execution_count": 32,
          "metadata": {},
          "output_type": "execute_result"
        }
      ],
      "source": [
        "lap.dtypes"
      ]
    },
    {
      "cell_type": "code",
      "execution_count": 33,
      "id": "558d9562",
      "metadata": {},
      "outputs": [
        {
          "data": {
            "text/plain": [
              "0            Windows 10\n",
              "1            Windows 10\n",
              "2          Windows 10 S\n",
              "3       Windows 10 Home\n",
              "4        Windows 11 Pro\n",
              "             ...       \n",
              "2838     Windows 10 Pro\n",
              "2839     Windows 10 Pro\n",
              "2840         Windows 10\n",
              "2841     Windows 10 Pro\n",
              "2842    Windows 10 Home\n",
              "Name: Operating_System, Length: 2752, dtype: object"
            ]
          },
          "execution_count": 33,
          "metadata": {},
          "output_type": "execute_result"
        }
      ],
      "source": [
        "# seguimos orden. vamos a por Operating System \n",
        "\n",
        "lap['Operating_System']"
      ]
    },
    {
      "cell_type": "code",
      "execution_count": 34,
      "id": "c1b95ad9",
      "metadata": {},
      "outputs": [
        {
          "name": "stdout",
          "output_type": "stream",
          "text": [
            "            count         mean    median          std\n",
            "OS_Family                                            \n",
            "macOS           5  2054.302000  1847.990   679.629234\n",
            "Other          85  1430.295765   979.990  1035.891565\n",
            "Windows 10    683  1146.293031   800.230  1027.083155\n",
            "Windows 11    853  1102.571395   799.000   858.784249\n",
            "ChromeOS      176   224.882159   179.475   170.484823\n"
          ]
        }
      ],
      "source": [
        "#veamos si el sistema operativo es muy representativo para el precio. \n",
        "\n",
        "def os_family(s: str) -> str:\n",
        "    s = str(s).lower()\n",
        "    if 'windows 11' in s: return 'Windows 11'\n",
        "    if 'windows 10' in s: return 'Windows 10'\n",
        "    if 'mac' in s or 'macos' in s or 'os x' in s: return 'macOS'\n",
        "    if 'chrome' in s: return 'ChromeOS'\n",
        "    if 'linux' in s or 'ubuntu' in s: return 'Linux'\n",
        "    return 'Other'\n",
        "\n",
        "lap['OS_Family'] = lap['Operating_System'].apply(os_family)\n",
        "\n",
        "osfam_stats = (\n",
        "    lap.dropna(subset=['OS_Family','Price'])\n",
        "       .groupby('OS_Family')['Price']\n",
        "       .agg(count='size', mean='mean', median='median', std='std')\n",
        "       .sort_values('mean', ascending=False)\n",
        ")\n",
        "print(osfam_stats)"
      ]
    },
    {
      "cell_type": "code",
      "execution_count": 35,
      "id": "f948f370",
      "metadata": {},
      "outputs": [
        {
          "data": {
            "image/png": "[encoded data removed]",
            "text/plain": [
              "<Figure size 1200x800 with 2 Axes>"
            ]
          },
          "metadata": {},
          "output_type": "display_data"
        }
      ],
      "source": [
        "# mapa de calor. Se aprecia una gran relación de RAM con precio/ las familias de sistemas operativos \n",
        "\n",
        "import matplotlib.pyplot as plt\n",
        "import seaborn as sns\n",
        "\n",
        "plt.figure(figsize=(12,8))\n",
        "corr = lap.corr(numeric_only=True)  # numeric_only=True evita problemas con columnas no numéricas\n",
        "sns.heatmap(corr, annot=True, cmap=\"coolwarm\", fmt=\".2f\")\n",
        "plt.title(\"Mapa de calor de correlaciones\")\n",
        "plt.show()\n"
      ]
    },
    {
      "cell_type": "code",
      "execution_count": 36,
      "id": "327bc46a",
      "metadata": {},
      "outputs": [],
      "source": [
        "def os_family(s: str) -> str:\n",
        "    s = str(s).lower()\n",
        "    if 'chrome' in s: return 'ChromeOS'\n",
        "    if 'windows' in s: return 'Windows'\n",
        "    if 'mac' in s or 'macos' in s or 'os x' in s: return 'macOS'\n",
        "    return 'Other'\n",
        "\n",
        "lap['OS_Family'] = lap['Operating_System'].apply(os_family)\n",
        "# luego ohe en el pipeline; si no, one-hot rápido:\n",
        "lap = pd.get_dummies(lap, columns=['OS_Family'], drop_first=True)\n",
        "# y nos la quitamos de encima\n",
        "lap = lap.drop(columns=['Operating_System'])\n"
      ]
    },
    {
      "cell_type": "code",
      "execution_count": 37,
      "id": "1a7de445",
      "metadata": {},
      "outputs": [],
      "source": [
        " #vemos que la columna COLOR está contaminada con RAM y demás. eliminamos\n",
        "\n",
        "lap=lap.drop(['Color'],axis=1)"
      ]
    },
    {
      "cell_type": "code",
      "execution_count": 38,
      "id": "9ca857f8",
      "metadata": {},
      "outputs": [],
      "source": [
        "# graphics es una lista con muchísimos tipos. Además, no puedo separar por marca, porque serían demasiadas. \n",
        "\n",
        "lap = lap.drop(['Graphics'], axis=1)"
      ]
    },
    {
      "cell_type": "code",
      "execution_count": 39,
      "id": "aa7e327a",
      "metadata": {},
      "outputs": [
        {
          "data": {
            "text/plain": [
              "Disk_size\n",
              "512 GB     560\n",
              "NaN        520\n",
              "1 TB       491\n",
              "256 GB     411\n",
              "128 GB     177\n",
              "64 GB      172\n",
              "32 GB       91\n",
              "2 TB        90\n",
              "1000 GB     40\n",
              "500 GB      34\n",
              "16 GB       31\n",
              "320 GB      24\n",
              "1512 GB     12\n",
              "4 TB        11\n",
              "1256 GB      9\n",
              "240 GB       7\n",
              "1128 GB      7\n",
              "512          7\n",
              "160 GB       5\n",
              "480 GB       5\n",
              "1024 GB      4\n",
              "960 GB       4\n",
              "64           4\n",
              "256          4\n",
              "250 GB       3\n",
              "1            3\n",
              "1 GB         3\n",
              "80 GB        2\n",
              "1.5 TB       2\n",
              "4 GB         2\n",
              "Name: count, dtype: int64"
            ]
          },
          "execution_count": 39,
          "metadata": {},
          "output_type": "execute_result"
        }
      ],
      "source": [
        "\n",
        "lap['Disk_size'].value_counts(dropna=False).head(30)\n",
        "\n",
        "# vemos cosas raras. \n",
        "\n"
      ]
    },
    {
      "cell_type": "code",
      "execution_count": 40,
      "id": "11c63695",
      "metadata": {},
      "outputs": [],
      "source": [
        "###  OJO. Quitamos decimales de algunos casos.\n",
        "# vamos a cambiar los teras a GB para simplificar y armonizar\n",
        "import numpy as np\n",
        "\n",
        "import re\n",
        "\n",
        "\n",
        "def disk_to_gb(x):\n",
        "    if pd.isna(x):\n",
        "        return np.nan\n",
        "    s = str(x).strip().lower().replace(',', '.')  # normaliza decimales\n",
        "    m = re.search(r'(\\d+(?:\\.\\d+)?)\\s*(tb|gb)?\\b', s)\n",
        "    if not m:\n",
        "        return np.nan\n",
        "    val = float(m.group(1))\n",
        "    unit = m.group(2)  # puede ser None\n",
        "\n",
        "    if not unit:  # para los teras \n",
        "        if val in (1.0, 2.0, 3.0, 4.0):\n",
        "            unit = 'tb'\n",
        "        else:\n",
        "            unit = 'gb'\n",
        "\n",
        "    return val * 1024.0 if unit == 'tb' else val\n",
        "\n",
        "lap['Disk_GB'] = lap['Disk_size'].apply(disk_to_gb)\n",
        "\n",
        "#  y eliminamos Disk_size, de donde ya hemos sacado la info\n",
        "lap = lap.drop(['Disk_size'],axis=1)\n",
        "\n"
      ]
    },
    {
      "cell_type": "code",
      "execution_count": 41,
      "id": "d2752566",
      "metadata": {},
      "outputs": [
        {
          "data": {
            "text/plain": [
              "Title                 0.000000\n",
              "Brand                 0.000000\n",
              "Screen_Size           0.000000\n",
              "Ram                   0.000000\n",
              "Rating               19.585756\n",
              "Price                34.520349\n",
              "CPU_Vendor            0.000000\n",
              "CPU_Family            0.000000\n",
              "CPU_Class             0.000000\n",
              "CPU_Arch              0.000000\n",
              "OS_Family_Other       0.000000\n",
              "OS_Family_Windows     0.000000\n",
              "OS_Family_macOS       0.000000\n",
              "Disk_GB              18.895349\n",
              "dtype: float64"
            ]
          },
          "execution_count": 41,
          "metadata": {},
          "output_type": "execute_result"
        }
      ],
      "source": [
        "total = len(lap)\n",
        "nulos = lap.isna().sum()\n",
        "porcentaje_nulos = (nulos/total)*100\n",
        "porcentaje_nulos"
      ]
    },
    {
      "cell_type": "code",
      "execution_count": 42,
      "id": "4017555c",
      "metadata": {},
      "outputs": [],
      "source": [
        "lap = lap.dropna(subset=['Price']).reset_index(drop=True)\n"
      ]
    },
    {
      "cell_type": "code",
      "execution_count": 43,
      "id": "0c52af00",
      "metadata": {},
      "outputs": [
        {
          "data": {
            "text/plain": [
              "Title                 0.000000\n",
              "Brand                 0.000000\n",
              "Screen_Size           0.000000\n",
              "Ram                   0.000000\n",
              "Rating               16.981132\n",
              "Price                 0.000000\n",
              "CPU_Vendor            0.000000\n",
              "CPU_Family            0.000000\n",
              "CPU_Class             0.000000\n",
              "CPU_Arch              0.000000\n",
              "OS_Family_Other       0.000000\n",
              "OS_Family_Windows     0.000000\n",
              "OS_Family_macOS       0.000000\n",
              "Disk_GB              18.756937\n",
              "dtype: float64"
            ]
          },
          "execution_count": 43,
          "metadata": {},
          "output_type": "execute_result"
        }
      ],
      "source": [
        "total = len(lap)\n",
        "nulos = lap.isna().sum()\n",
        "porcentaje_nulos = (nulos/total)*100\n",
        "porcentaje_nulos"
      ]
    },
    {
      "cell_type": "code",
      "execution_count": 44,
      "id": "8acb2a84",
      "metadata": {},
      "outputs": [
        {
          "data": {
            "image/png": "[encoded data removed]",
            "text/plain": [
              "<Figure size 800x500 with 1 Axes>"
            ]
          },
          "metadata": {},
          "output_type": "display_data"
        }
      ],
      "source": [
        "#distribución de los precios (vemos que la mayoría son más baratos que caros)\n",
        "\n",
        "plt.figure(figsize=(8,5))\n",
        "sns.histplot(lap[\"Price\"], bins=50, kde=True)\n",
        "plt.title(\"Distribución de precios\")\n",
        "plt.xlabel(\"Price\")\n",
        "plt.ylabel(\"Frecuencia\")\n",
        "plt.show()\n"
      ]
    },
    {
      "cell_type": "code",
      "execution_count": 45,
      "id": "2a91dd1e",
      "metadata": {},
      "outputs": [
        {
          "data": {
            "image/png": "[encoded data removed]",
            "text/plain": [
              "<Figure size 1500x500 with 1 Axes>"
            ]
          },
          "metadata": {},
          "output_type": "display_data"
        }
      ],
      "source": [
        "#boxplot para ver los precios según las marcas\n",
        "\n",
        "plt.figure(figsize=(15,5))\n",
        "sns.boxplot(x=\"Brand\", y=\"Price\", data=lap)\n",
        "plt.xticks(rotation=45)\n",
        "plt.title(\"Precio según la marca\")\n",
        "plt.show()\n"
      ]
    },
    {
      "cell_type": "code",
      "execution_count": 47,
      "metadata": {},
      "outputs": [
        {
          "name": "stdout",
          "output_type": "stream",
          "text": [
            "[OK] Procesado guardado en data/processed/dataset_procesado.csv\n"
          ]
        }
      ],
      "source": [
        "# Guardar dataset procesado si existe un DataFrame principal llamado 'lap'\n",
        "from pathlib import Path\n",
        "import pandas as pd\n",
        "try:\n",
        "    root = Path.cwd().parent  # asumiendo que ejecutas desde notebooks/\n",
        "    out_dir = root / 'data' / 'processed'\n",
        "    out_dir.mkdir(parents=True, exist_ok=True)\n",
        "    if 'lap' in globals() and isinstance(lap, pd.DataFrame):\n",
        "        lap.to_csv(out_dir / 'dataset_procesado.csv', index=False)\n",
        "        print('[OK] Procesado guardado en data/processed/dataset_procesado.csv')\n",
        "    else:\n",
        "        print('[Aviso] No encuentro un DataFrame llamado lap; omito guardado automático.')\n",
        "except Exception as e:\n",
        "    print('[Aviso] No se pudo guardar el procesado:', e)\n"
      ]
    }
  ],
  "metadata": {
    "kernelspec": {
      "display_name": "Python 3",
      "language": "python",
      "name": "python3"
    },
    "language_info": {
      "codemirror_mode": {
        "name": "ipython",
        "version": 3
      },
      "file_extension": ".py",
      "mimetype": "text/x-python",
      "name": "python",
      "nbconvert_exporter": "python",
      "pygments_lexer": "ipython3",
      "version": "3.13.3"
    }
  },
  "nbformat": 4,
  "nbformat_minor": 5
}
